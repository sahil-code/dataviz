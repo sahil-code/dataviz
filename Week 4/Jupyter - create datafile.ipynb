{
 "cells": [
  {
   "cell_type": "code",
   "execution_count": 3,
   "metadata": {},
   "outputs": [],
   "source": [
    "import json"
   ]
  },
  {
   "cell_type": "code",
   "execution_count": 2,
   "metadata": {},
   "outputs": [],
   "source": [
    "# getting datafile\n",
    "data = requests.get(\"http://howstat.com/cricket/Statistics/Grounds/GroundList.asp?Scope=A&Country=IND\")\n",
    "soup = BeautifulSoup(data.text)\n",
    "links = []\n",
    "for tr in soup.find_all(\"tr\",{\"bgcolor\":True}):\n",
    "    alltds = tr.find_all(\"td\")\n",
    "    if alltds[3].find_all(\"a\"):\n",
    "        link = alltds[3].find_all(\"a\")[0].get(\"href\",\"\")\n",
    "    elif alltds[4].find_all(\"a\"):\n",
    "        link = alltds[4].find_all(\"a\")[0].get(\"href\",\"\")\n",
    "    elif alltds[5].find_all(\"a\"):\n",
    "        link = alltds[5].find_all(\"a\")[0].get(\"href\",\"\")\n",
    "    links.append(link)\n",
    "resultArray = []\n",
    "for link in links:\n",
    "    linkdata = BeautifulSoup(requests.get(\"http://howstat.com/cricket/Statistics/Grounds/\" + link).text)\n",
    "    alltrslink = linkdata.find_all(\"tr\")\n",
    "    extrarow = 0\n",
    "    if alltrslink[7].td.text.strip() == \"Also or previously Known as\":\n",
    "        extrarow = 1\n",
    "    for tr in alltrslink:\n",
    "        if tr.find_all(\"td\")[0].text.strip() == \"Highest Individual Innings\":\n",
    "            batsman = tr.find_all(\"td\")[2].text.strip()\n",
    "        if tr.find_all(\"td\")[0].text.strip() == \"Best Bowling (Match)\":\n",
    "            bowler = tr.find_all(\"td\")[2].text.strip()\n",
    "        if tr.find_all(\"td\")[0].text.strip() == \"Best Bowling\":\n",
    "            extrabowler = tr.find_all(\"td\")[2].text.strip()\n",
    "        \n",
    "    result = {\n",
    "    \"name\": alltrslink[4].td.span.text.strip(),\n",
    "    \"city\": alltrslink[5].find_all(\"td\")[1].text.strip(),\n",
    "    \"batsman\": batsman,\n",
    "    \"bowler\": bowler if bowler else extrabowler\n",
    "    }\n",
    "    sleep(1)\n",
    "    resultArray.append(result)\n",
    "print(resultArray)\n",
    "with open(\"datafile.json\",\"w\") as data:\n",
    "    json.dump(resultArray, data)"
   ]
  },
  {
   "cell_type": "code",
   "execution_count": 11,
   "metadata": {},
   "outputs": [],
   "source": [
    "resultArray = json.load(open('datafile.json', 'r'))\n",
    "citylist = [result['city'] for result in resultArray]\n",
    "citydata = {city:citylist.count(city) for city in citylist}\n",
    "with open(\"citydata.json\",\"w\") as data:\n",
    "    json.dump(citydata, data)"
   ]
  },
  {
   "cell_type": "code",
   "execution_count": 27,
   "metadata": {},
   "outputs": [],
   "source": [
    "resultArray = json.load(open('datafile.json', 'r'))\n",
    "bowlerlist = [result['bowler'] for result in resultArray]\n",
    "bowlercount = {bowler:bowlerlist.count(bowler) for bowler in bowlerlist}\n",
    "bowlercountsorted = dict(sorted(bowlercount.items(), key=lambda bowler:bowler[1], reverse=True))\n",
    "with open(\"bowlercount.json\",\"w\") as data:\n",
    "    json.dump(bowlercountsorted, data)"
   ]
  },
  {
   "cell_type": "code",
   "execution_count": 28,
   "metadata": {},
   "outputs": [],
   "source": [
    "resultArray = json.load(open('datafile.json', 'r'))\n",
    "batsmanlist = [result['batsman'] for result in resultArray]\n",
    "batsmancount = {batsman:batsmanlist.count(batsman) for batsman in batsmanlist}\n",
    "batsmancountsorted = dict(sorted(batsmancount.items(), key=lambda batsman:batsman[1], reverse=True))\n",
    "with open(\"batsmancount.json\",\"w\") as data:\n",
    "    json.dump(batsmancountsorted, data)"
   ]
  },
  {
   "cell_type": "code",
   "execution_count": 25,
   "metadata": {},
   "outputs": [
    {
     "name": "stdout",
     "output_type": "stream",
     "text": [
      "{'name': 'Delhi', 'count': 1, 'latitude': 28.6517178, 'longitude': 77.2219388}\n",
      "{'name': 'Cuttack', 'count': 1, 'latitude': 20.4686, 'longitude': 85.8792}\n",
      "{'name': 'Jodhpur', 'count': 1, 'latitude': 26.2967719, 'longitude': 73.0351433}\n",
      "{'name': 'Guwahati', 'count': 2, 'latitude': 26.1805978, 'longitude': 91.753943}\n",
      "{'name': 'Lucknow', 'count': 3, 'latitude': 26.8381, 'longitude': 80.9346001}\n",
      "{'name': 'Mumbai', 'count': 2, 'latitude': 19.0785451, 'longitude': 72.878176}\n",
      "{'name': 'Gwalior', 'count': 1, 'latitude': 26.2037247, 'longitude': 78.1573628}\n",
      "{'name': 'Visakhapatnam', 'count': 2, 'latitude': 17.7231276, 'longitude': 83.3012842}\n",
      "{'name': 'Kolkata', 'count': 1, 'latitude': 22.5414185, 'longitude': 88.35769124388872}\n",
      "{'name': 'Amritsar', 'count': 1, 'latitude': 31.6343083, 'longitude': 74.8736788}\n",
      "{'name': 'Jalandhar (Jullundur)', 'count': 1, 'latitude': 31.3223424, 'longitude': 75.6326857}\n",
      "{'name': 'Greater Noida', 'count': 1, 'latitude': 28.4670734, 'longitude': 77.5137649}\n",
      "{'name': 'Kanpur', 'count': 1, 'latitude': 26.4609135, 'longitude': 80.3217588}\n",
      "{'name': 'Thiruvananthapuram', 'count': 2, 'latitude': 8.4882267, 'longitude': 76.947551}\n",
      "{'name': 'Mumbai (Bombay)', 'count': 1, 'latitude': 18.9414868, 'longitude': 72.8238464}\n",
      "{'name': 'Dharamsala', 'count': 1, 'latitude': 32.2143039, 'longitude': 76.3196717}\n",
      "{'name': 'Indore', 'count': 2, 'latitude': 22.7203616, 'longitude': 75.8681996}\n",
      "{'name': 'Vijayawada', 'count': 1, 'latitude': 16.5087586, 'longitude': 80.6185102}\n",
      "{'name': 'New Delhi, Delhi', 'count': 1, 'latitude': 28.6138954, 'longitude': 77.2090057}\n",
      "{'name': 'Ranchi', 'count': 1, 'latitude': 23.3700501, 'longitude': 85.3250387}\n",
      "{'name': 'Jamshedpur', 'count': 1, 'latitude': 22.8015194, 'longitude': 86.2029579}\n",
      "{'name': 'Hyderabad (Deccan)', 'count': 1, 'latitude': 17.39183825, 'longitude': 78.46753909779946}\n",
      "{'name': 'Bengaluru, Bangalore', 'count': 1, 'latitude': 12.9767936, 'longitude': 77.590082}\n",
      "{'name': 'Chennai', 'count': 1, 'latitude': 13.0836939, 'longitude': 80.270186}\n",
      "{'name': 'Rajkot', 'count': 2, 'latitude': 22.3053263, 'longitude': 70.8028377}\n",
      "{'name': 'Pune', 'count': 2, 'latitude': 18.521428, 'longitude': 73.8544541}\n",
      "{'name': 'Patna', 'count': 1, 'latitude': 25.6093239, 'longitude': 85.1235252}\n",
      "{'name': 'Vadodara (Baroda)', 'count': 1, 'latitude': 22.3128601, 'longitude': 73.2231742}\n",
      "{'name': 'Faridabad', 'count': 1, 'latitude': 28.4031478, 'longitude': 77.3105561}\n",
      "{'name': 'Ahmedabad', 'count': 2, 'latitude': 23.0216238, 'longitude': 72.5797068}\n",
      "{'name': 'Chennai (Madras)', 'count': 1, 'latitude': 13.059021099999999, 'longitude': 80.28138336226445}\n",
      "{'name': 'Kochi', 'count': 1, 'latitude': 9.931308, 'longitude': 76.2674136}\n",
      "{'name': 'Margao', 'count': 1, 'latitude': 15.272923, 'longitude': 73.9583159}\n",
      "{'name': 'Mohali, Chandigarh', 'count': 1, 'latitude': 30.7442722, 'longitude': 76.6511232}\n",
      "{'name': 'Dehra Dun', 'count': 1, 'latitude': 30.3255646, 'longitude': 78.0436813}\n",
      "{'name': 'Hyderabad', 'count': 1, 'latitude': 17.360589, 'longitude': 78.4740613}\n",
      "{'name': 'Vadodara', 'count': 1, 'latitude': 22.2973142, 'longitude': 73.1942567}\n",
      "{'name': 'Jaipur', 'count': 1, 'latitude': 26.9154576, 'longitude': 75.8189817}\n",
      "{'name': 'Chandigarh', 'count': 1, 'latitude': 30.7334421, 'longitude': 76.7797143}\n",
      "{'name': 'Srinagar', 'count': 1, 'latitude': 34.0747444, 'longitude': 74.8204443}\n",
      "{'name': 'Nagpur', 'count': 2, 'latitude': 21.1498134, 'longitude': 79.0820556}\n"
     ]
    }
   ],
   "source": [
    "from geopy import Nominatim \n",
    "geolocator = Nominatim(user_agent=\"sahil\")\n",
    "citydata = json.load(open('citydata.json', 'r'))\n",
    "cityarray = []\n",
    "for city in citydata:\n",
    "    cityinfo = geolocator.geocode(str(city) + \", India\")\n",
    "    cityobj = {\n",
    "        \"name\": city,\n",
    "        \"count\": citydata[city],\n",
    "        \"latitude\": cityinfo.latitude,\n",
    "        \"longitude\": cityinfo.longitude,\n",
    "    }\n",
    "    print(cityobj)\n",
    "    cityarray.append(cityobj)\n",
    "with open(\"cityarray.json\",\"w\") as data:\n",
    "    json.dump(cityarray, data)"
   ]
  }
 ],
 "metadata": {
  "kernelspec": {
   "display_name": "Python 3.8.5 32-bit",
   "language": "python",
   "name": "python3"
  },
  "language_info": {
   "codemirror_mode": {
    "name": "ipython",
    "version": 3
   },
   "file_extension": ".py",
   "mimetype": "text/x-python",
   "name": "python",
   "nbconvert_exporter": "python",
   "pygments_lexer": "ipython3",
   "version": "3.8.5"
  },
  "orig_nbformat": 4,
  "vscode": {
   "interpreter": {
    "hash": "2b041c815914b5028b975563134609ef849bdb2435a46c414f594dc42613d569"
   }
  }
 },
 "nbformat": 4,
 "nbformat_minor": 2
}
